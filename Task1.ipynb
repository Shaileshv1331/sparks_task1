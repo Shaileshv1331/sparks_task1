{
  "nbformat": 4,
  "nbformat_minor": 0,
  "metadata": {
    "colab": {
      "name": "Task1.ipynb",
      "provenance": [],
      "collapsed_sections": [],
      "authorship_tag": "ABX9TyNC5p1B6Xdwg0MW77JqJ8eM",
      "include_colab_link": true
    },
    "kernelspec": {
      "name": "python3",
      "display_name": "Python 3"
    },
    "language_info": {
      "name": "python"
    }
  },
  "cells": [
    {
      "cell_type": "markdown",
      "metadata": {
        "id": "view-in-github",
        "colab_type": "text"
      },
      "source": [
        "<a href=\"https://colab.research.google.com/github/Shaileshv1331/sparks_task1/blob/main/Task1.ipynb\" target=\"_parent\"><img src=\"https://colab.research.google.com/assets/colab-badge.svg\" alt=\"Open In Colab\"/></a>"
      ]
    },
    {
      "cell_type": "markdown",
      "metadata": {
        "id": "AMhgH3T3D0gz"
      },
      "source": [
        "**By:-Vekariya Shailesh Dilsukhbhai**\n",
        "\n",
        "**The Spark Foundation Internship : Data Science And Business Analytics (GRIP-JULY'21)**\n",
        "\n",
        "**Task:1 - Prediction Using Supervised ML**\n",
        "\n",
        "**Predict the percentage of an student based on the no.of the study hour**"
      ]
    },
    {
      "cell_type": "markdown",
      "metadata": {
        "id": "2ZTrDcI4DChc"
      },
      "source": [
        "**IMPORTING REQUIRED LIBRARIES**"
      ]
    },
    {
      "cell_type": "code",
      "metadata": {
        "id": "ORf9CmTWujkS"
      },
      "source": [
        "import pandas as p\n",
        "import seaborn as s\n",
        "import numpy as np\n",
        "import matplotlib.pyplot as plt\n",
        "from sklearn.model_selection import train_test_split\n",
        "from sklearn import preprocessing\n",
        "from sklearn.linear_model import LinearRegression\n",
        "from sklearn.metrics import mean_squared_error"
      ],
      "execution_count": 39,
      "outputs": []
    },
    {
      "cell_type": "markdown",
      "metadata": {
        "id": "Cu6iO8P16mod"
      },
      "source": [
        "**READING DATASET**\n"
      ]
    },
    {
      "cell_type": "code",
      "metadata": {
        "colab": {
          "base_uri": "https://localhost:8080/",
          "height": 819
        },
        "id": "yu0deQU8wTyC",
        "outputId": "c27a6dfc-a9cc-4bfc-be85-f00fe354c6c0"
      },
      "source": [
        "st=p.read_csv('https://raw.githubusercontent.com/AdiPersonalWorks/Random/master/student_scores%20-%20student_scores.csv')\n",
        "st"
      ],
      "execution_count": 40,
      "outputs": [
        {
          "output_type": "execute_result",
          "data": {
            "text/html": [
              "<div>\n",
              "<style scoped>\n",
              "    .dataframe tbody tr th:only-of-type {\n",
              "        vertical-align: middle;\n",
              "    }\n",
              "\n",
              "    .dataframe tbody tr th {\n",
              "        vertical-align: top;\n",
              "    }\n",
              "\n",
              "    .dataframe thead th {\n",
              "        text-align: right;\n",
              "    }\n",
              "</style>\n",
              "<table border=\"1\" class=\"dataframe\">\n",
              "  <thead>\n",
              "    <tr style=\"text-align: right;\">\n",
              "      <th></th>\n",
              "      <th>Hours</th>\n",
              "      <th>Scores</th>\n",
              "    </tr>\n",
              "  </thead>\n",
              "  <tbody>\n",
              "    <tr>\n",
              "      <th>0</th>\n",
              "      <td>2.5</td>\n",
              "      <td>21</td>\n",
              "    </tr>\n",
              "    <tr>\n",
              "      <th>1</th>\n",
              "      <td>5.1</td>\n",
              "      <td>47</td>\n",
              "    </tr>\n",
              "    <tr>\n",
              "      <th>2</th>\n",
              "      <td>3.2</td>\n",
              "      <td>27</td>\n",
              "    </tr>\n",
              "    <tr>\n",
              "      <th>3</th>\n",
              "      <td>8.5</td>\n",
              "      <td>75</td>\n",
              "    </tr>\n",
              "    <tr>\n",
              "      <th>4</th>\n",
              "      <td>3.5</td>\n",
              "      <td>30</td>\n",
              "    </tr>\n",
              "    <tr>\n",
              "      <th>5</th>\n",
              "      <td>1.5</td>\n",
              "      <td>20</td>\n",
              "    </tr>\n",
              "    <tr>\n",
              "      <th>6</th>\n",
              "      <td>9.2</td>\n",
              "      <td>88</td>\n",
              "    </tr>\n",
              "    <tr>\n",
              "      <th>7</th>\n",
              "      <td>5.5</td>\n",
              "      <td>60</td>\n",
              "    </tr>\n",
              "    <tr>\n",
              "      <th>8</th>\n",
              "      <td>8.3</td>\n",
              "      <td>81</td>\n",
              "    </tr>\n",
              "    <tr>\n",
              "      <th>9</th>\n",
              "      <td>2.7</td>\n",
              "      <td>25</td>\n",
              "    </tr>\n",
              "    <tr>\n",
              "      <th>10</th>\n",
              "      <td>7.7</td>\n",
              "      <td>85</td>\n",
              "    </tr>\n",
              "    <tr>\n",
              "      <th>11</th>\n",
              "      <td>5.9</td>\n",
              "      <td>62</td>\n",
              "    </tr>\n",
              "    <tr>\n",
              "      <th>12</th>\n",
              "      <td>4.5</td>\n",
              "      <td>41</td>\n",
              "    </tr>\n",
              "    <tr>\n",
              "      <th>13</th>\n",
              "      <td>3.3</td>\n",
              "      <td>42</td>\n",
              "    </tr>\n",
              "    <tr>\n",
              "      <th>14</th>\n",
              "      <td>1.1</td>\n",
              "      <td>17</td>\n",
              "    </tr>\n",
              "    <tr>\n",
              "      <th>15</th>\n",
              "      <td>8.9</td>\n",
              "      <td>95</td>\n",
              "    </tr>\n",
              "    <tr>\n",
              "      <th>16</th>\n",
              "      <td>2.5</td>\n",
              "      <td>30</td>\n",
              "    </tr>\n",
              "    <tr>\n",
              "      <th>17</th>\n",
              "      <td>1.9</td>\n",
              "      <td>24</td>\n",
              "    </tr>\n",
              "    <tr>\n",
              "      <th>18</th>\n",
              "      <td>6.1</td>\n",
              "      <td>67</td>\n",
              "    </tr>\n",
              "    <tr>\n",
              "      <th>19</th>\n",
              "      <td>7.4</td>\n",
              "      <td>69</td>\n",
              "    </tr>\n",
              "    <tr>\n",
              "      <th>20</th>\n",
              "      <td>2.7</td>\n",
              "      <td>30</td>\n",
              "    </tr>\n",
              "    <tr>\n",
              "      <th>21</th>\n",
              "      <td>4.8</td>\n",
              "      <td>54</td>\n",
              "    </tr>\n",
              "    <tr>\n",
              "      <th>22</th>\n",
              "      <td>3.8</td>\n",
              "      <td>35</td>\n",
              "    </tr>\n",
              "    <tr>\n",
              "      <th>23</th>\n",
              "      <td>6.9</td>\n",
              "      <td>76</td>\n",
              "    </tr>\n",
              "    <tr>\n",
              "      <th>24</th>\n",
              "      <td>7.8</td>\n",
              "      <td>86</td>\n",
              "    </tr>\n",
              "  </tbody>\n",
              "</table>\n",
              "</div>"
            ],
            "text/plain": [
              "    Hours  Scores\n",
              "0     2.5      21\n",
              "1     5.1      47\n",
              "2     3.2      27\n",
              "3     8.5      75\n",
              "4     3.5      30\n",
              "5     1.5      20\n",
              "6     9.2      88\n",
              "7     5.5      60\n",
              "8     8.3      81\n",
              "9     2.7      25\n",
              "10    7.7      85\n",
              "11    5.9      62\n",
              "12    4.5      41\n",
              "13    3.3      42\n",
              "14    1.1      17\n",
              "15    8.9      95\n",
              "16    2.5      30\n",
              "17    1.9      24\n",
              "18    6.1      67\n",
              "19    7.4      69\n",
              "20    2.7      30\n",
              "21    4.8      54\n",
              "22    3.8      35\n",
              "23    6.9      76\n",
              "24    7.8      86"
            ]
          },
          "metadata": {
            "tags": []
          },
          "execution_count": 40
        }
      ]
    },
    {
      "cell_type": "markdown",
      "metadata": {
        "id": "5VymDNgr7AFD"
      },
      "source": [
        "**PLOTING THE GRAPH OF DATASET VALUES**"
      ]
    },
    {
      "cell_type": "code",
      "metadata": {
        "colab": {
          "base_uri": "https://localhost:8080/",
          "height": 282
        },
        "id": "bxcIPk6y0Eqt",
        "outputId": "b6b6a607-ae05-422f-8154-d533d9e1c152"
      },
      "source": [
        "st.plot()"
      ],
      "execution_count": 41,
      "outputs": [
        {
          "output_type": "execute_result",
          "data": {
            "text/plain": [
              "<matplotlib.axes._subplots.AxesSubplot at 0x7fd291264850>"
            ]
          },
          "metadata": {
            "tags": []
          },
          "execution_count": 41
        },
        {
          "output_type": "display_data",
          "data": {
            "image/png": "[encoded data removed]",
            "text/plain": [
              "<Figure size 432x288 with 1 Axes>"
            ]
          },
          "metadata": {
            "tags": [],
            "needs_background": "light"
          }
        }
      ]
    },
    {
      "cell_type": "markdown",
      "metadata": {
        "id": "98wH8k017DuX"
      },
      "source": [
        "**REPHASING THE ATTRIBUTES**"
      ]
    },
    {
      "cell_type": "code",
      "metadata": {
        "id": "qP6nhjPu0PCO"
      },
      "source": [
        "x = st.iloc[:, :-1].values  \n",
        "y = st.iloc[:, 1].values"
      ],
      "execution_count": 42,
      "outputs": []
    },
    {
      "cell_type": "markdown",
      "metadata": {
        "id": "koucWGIH7PQY"
      },
      "source": [
        "**SPLIT OUR DATA SET INTO 70:30 % TRAIN:TEST RATIO**"
      ]
    },
    {
      "cell_type": "code",
      "metadata": {
        "colab": {
          "base_uri": "https://localhost:8080/"
        },
        "id": "F9i_GXFn1JX2",
        "outputId": "0f1acf52-d31d-4eb5-a0ee-36a2472804d8"
      },
      "source": [
        "x_train , x_test, y_train, y_test = train_test_split(x, y, test_size=0.7 ,random_state=1)\n",
        "while True:\n",
        "  print(\"Data Set Split Complete\")\n",
        "  break"
      ],
      "execution_count": 43,
      "outputs": [
        {
          "output_type": "stream",
          "text": [
            "Data Set Split Complete\n"
          ],
          "name": "stdout"
        }
      ]
    },
    {
      "cell_type": "markdown",
      "metadata": {
        "id": "tYmdifzF7sfF"
      },
      "source": [
        "**TRAIN MODEL USING LINEAR REGRESSION**"
      ]
    },
    {
      "cell_type": "code",
      "metadata": {
        "colab": {
          "base_uri": "https://localhost:8080/"
        },
        "id": "HmuC1haY1oOJ",
        "outputId": "e879f437-5461-4373-a0f5-f71768476b07"
      },
      "source": [
        "reg=LinearRegression()\n",
        "reg.fit(x_train , y_train)\n",
        "while True:\n",
        "  print(\"Model Training Complete\")\n",
        "  break"
      ],
      "execution_count": 44,
      "outputs": [
        {
          "output_type": "stream",
          "text": [
            "Model Training Complete\n"
          ],
          "name": "stdout"
        }
      ]
    },
    {
      "cell_type": "markdown",
      "metadata": {
        "id": "EN4_Vsob74GF"
      },
      "source": [
        "**PRINTING THE PREDICTED VALUES**"
      ]
    },
    {
      "cell_type": "code",
      "metadata": {
        "colab": {
          "base_uri": "https://localhost:8080/"
        },
        "id": "lZm8VVRA18lD",
        "outputId": "14c89ceb-e2b6-4343-9d80-ce0c636c5334"
      },
      "source": [
        "y_predicted= reg.predict(x_test)\n",
        "print(y_predicted)"
      ],
      "execution_count": 45,
      "outputs": [
        {
          "output_type": "stream",
          "text": [
            "[11.50493174 34.34854549 19.81170038 88.34254163 49.92373669 80.035773\n",
            " 63.42223572 76.92073476 36.42523765 33.31019941 28.11846902 95.61096419\n",
            " 57.19215925 39.54027589 53.03877493 26.04177686 26.04177686 92.49592595]\n"
          ],
          "name": "stdout"
        }
      ]
    },
    {
      "cell_type": "markdown",
      "metadata": {
        "id": "JB2gp8IX8MQF"
      },
      "source": [
        "**COMPARING ACTUAL AND PREDICTED VALUES USING GRAPH**"
      ]
    },
    {
      "cell_type": "code",
      "metadata": {
        "colab": {
          "base_uri": "https://localhost:8080/",
          "height": 399
        },
        "id": "HRK8iBWP2Bf_",
        "outputId": "3c42c141-5f79-4798-e28d-6dddf502225c"
      },
      "source": [
        "temp1 = []\n",
        "temp2 = []\n",
        "temp3 = []\n",
        "\n",
        "for i in range(len(y_test)):\n",
        "    temp1.append(int(y_test[i]))\n",
        "for i in range(len(y_predicted)):\n",
        "    temp2.append(int(y_predicted[i]))\n",
        "for i in range(len(y_predicted)):\n",
        "    temp3.append(i)\n",
        "\n",
        "# printing actual values of y \n",
        "print(\"actual values -->\")\n",
        "print(temp1)\n",
        "\n",
        "# printing predicted values by the model\n",
        "print(\"predicted values -->\")\n",
        "print(temp2)\n",
        "\n",
        "print('\\n'*2)\n",
        "plt.scatter(temp3,temp1, marker=\"s\" , color=\"blue\")\n",
        "plt.scatter(temp3,temp2,color=\"green\")"
      ],
      "execution_count": 46,
      "outputs": [
        {
          "output_type": "stream",
          "text": [
            "actual values -->\n",
            "[17, 42, 24, 75, 54, 85, 67, 69, 30, 27, 30, 88, 60, 35, 47, 30, 21, 95]\n",
            "predicted values -->\n",
            "[11, 34, 19, 88, 49, 80, 63, 76, 36, 33, 28, 95, 57, 39, 53, 26, 26, 92]\n",
            "\n",
            "\n",
            "\n"
          ],
          "name": "stdout"
        },
        {
          "output_type": "execute_result",
          "data": {
            "text/plain": [
              "<matplotlib.collections.PathCollection at 0x7fd2912d3810>"
            ]
          },
          "metadata": {
            "tags": []
          },
          "execution_count": 46
        },
        {
          "output_type": "display_data",
          "data": {
            "image/png": "[encoded data removed]",
            "text/plain": [
              "<Figure size 432x288 with 1 Axes>"
            ]
          },
          "metadata": {
            "tags": [],
            "needs_background": "light"
          }
        }
      ]
    },
    {
      "cell_type": "markdown",
      "metadata": {
        "id": "bKmFd0h88qkz"
      },
      "source": [
        "**CUSTOM PREDICTION TEST YOUR MODEL BY YOUR VALUES**"
      ]
    },
    {
      "cell_type": "code",
      "metadata": {
        "colab": {
          "base_uri": "https://localhost:8080/"
        },
        "id": "yqylPOOs2N4Z",
        "outputId": "27757e35-d608-4941-d4ff-b124e2bdd736"
      },
      "source": [
        "custom_pred=reg.predict([[6]])\n",
        "print(\"prediction for custom input -->%.5f\" %custom_pred)\n"
      ],
      "execution_count": 47,
      "outputs": [
        {
          "output_type": "stream",
          "text": [
            "prediction for custom input -->62.38389\n"
          ],
          "name": "stdout"
        }
      ]
    },
    {
      "cell_type": "markdown",
      "metadata": {
        "id": "smHfwo0v8oGT"
      },
      "source": [
        "**FINDING THE MEAN SQUARE VALUE BY COMPARING ACTUAL AND PREDICTED VALUES**"
      ]
    },
    {
      "cell_type": "code",
      "metadata": {
        "colab": {
          "base_uri": "https://localhost:8080/"
        },
        "id": "9qHqYL7H2U_3",
        "outputId": "da31dde5-2e62-41e4-e3b8-82a9d8ac1e7c"
      },
      "source": [
        "pred1= mean_squared_error(y_test, y_predicted)\n",
        "print(\"Mean Squared Error --> %.5f\" %pred1)"
      ],
      "execution_count": 48,
      "outputs": [
        {
          "output_type": "stream",
          "text": [
            "Mean Squared Error --> 36.44418\n"
          ],
          "name": "stdout"
        }
      ]
    }
  ]
}